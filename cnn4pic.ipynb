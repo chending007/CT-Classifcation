{
 "cells": [
  {
   "cell_type": "code",
   "execution_count": 174,
   "metadata": {
    "collapsed": true
   },
   "outputs": [],
   "source": [
    "# 收集基本数据\n",
    "import os\n",
    "import pandas\n",
    "from PIL import Image\n",
    "import torch.utils.data\n",
    "\n",
    "class MedicPicDataset(torch.utils.data.Dataset):\n",
    "    def __init__(self, root,transforms=None):\n",
    "        self.root = root\n",
    "\n",
    "        # load all image files, sorting them to ensure that they are aligned\n",
    "\n",
    "        self.imgs = list(sorted(os.listdir(os.path.join(root,\"MedImgs\"))))\n",
    "\n",
    "        self.transforms = transforms\n",
    "\n",
    "    def __getitem__(self, item):\n",
    "\n",
    "        # read imgs\n",
    "        item=item+1  # 从1开始\n",
    "        img_name = \"1-\"+str(item) +\".tif\"\n",
    "        img_path = os.path.join(self.root,\"MedImgs\",img_name)\n",
    "        item_data = Image.open(img_path)\n",
    "\n",
    "\n",
    "        # transform data\n",
    "        if self.transforms:\n",
    "            item_data = self.transforms(item_data)\n",
    "\n",
    "\n",
    "        # read label of the dataset\n",
    "        label_file_path = os.path.join(self.root,\"label.xlsx\")\n",
    "        label_data = pandas.read_excel(label_file_path)\n",
    "        item_label = label_data.iloc[item-1,2]\n",
    "        return item_data, item_label\n",
    "\n",
    "\n",
    "    def __len__(self):\n",
    "        return len(self.imgs)\n"
   ]
  },
  {
   "cell_type": "code",
   "execution_count": 175,
   "outputs": [],
   "source": [
    "# 构造平衡的训练集和测试集\n",
    "# 统计100样本下，label 1 的数量为38， label 0 的数量为62，基本平衡，因此在这里只简单进行shuffle\n",
    "\n",
    "# 图像基本处理 —— 标准化\n",
    "from torchvision import transforms as T\n",
    "transforms = T.Compose([\n",
    "    T.Resize(32),\n",
    "    T.ToTensor(),\n",
    "    T.Normalize((0.5,0.5,0.5),(0.5,0.5,0.5))\n",
    "\n",
    "])\n",
    "\n",
    "TRAIN_RATE = 0.7\n",
    "VALIDATE_RATE = 0\n",
    "dataset = MedicPicDataset(root=\"./\",transforms=transforms)\n",
    "\n",
    "dataset_len = dataset.__len__()\n",
    "temp = list(range(dataset_len))\n",
    "train_size = int(dataset_len * TRAIN_RATE)\n",
    "validate_size = int(dataset_len * VALIDATE_RATE)\n",
    "test_size = dataset_len - train_size - validate_size\n",
    "\n",
    "\n",
    "from torch.utils.data import Dataset, DataLoader\n",
    "train_dataset, validate_dataset, test_dataset = torch.utils.data.random_split(dataset,[train_size,validate_size,test_size])\n",
    "\n",
    "\n",
    "train_loader = DataLoader(train_dataset, batch_size=1, shuffle=False,num_workers=0)\n",
    "validate_loader = DataLoader(validate_dataset, batch_size=1, shuffle=False,num_workers=0)\n",
    "test_loader = DataLoader(test_dataset, batch_size=1, shuffle=False,num_workers=0)\n"
   ],
   "metadata": {
    "collapsed": false,
    "pycharm": {
     "name": "#%%\n"
    }
   }
  },
  {
   "cell_type": "code",
   "execution_count": 176,
   "outputs": [],
   "source": [
    "import numpy as np\n",
    "import matplotlib.pyplot as plt\n",
    "import torchvision\n",
    "def imshow(img):\n",
    "    img = img /2 + 0.5   # why ?\n",
    "    npimg = img.numpy()\n",
    "    plt.imshow(np.transpose(npimg,(1,2,0)))\n",
    "    plt.show()\n",
    "\n",
    "# imshow(torchvision.utils.make_grid(iter(train_loader).__next__()[0]))"
   ],
   "metadata": {
    "collapsed": false,
    "pycharm": {
     "name": "#%%\n"
    }
   }
  },
  {
   "cell_type": "code",
   "execution_count": 177,
   "outputs": [],
   "source": [
    "# # training\n",
    "#\n",
    "# EOPCH = 100\n",
    "#\n",
    "# for epoch in range(EOPCH):\n",
    "#     running_loss = 0.0\n",
    "#\n",
    "#     # get the inputs\n",
    "#     for i, data in enumerate(train_loader,0):\n",
    "#         inputs, labels = data\n",
    "#\n",
    "#         optimizer.zero_grad()\n",
    "#\n",
    "#         outputs = net(inputs)\n",
    "#         loss = criterion(outputs, labels)\n",
    "#         loss.backward()\n",
    "#         optimizer.step()\n",
    "#         running_loss += loss.item()"
   ],
   "metadata": {
    "collapsed": false,
    "pycharm": {
     "name": "#%%\n"
    }
   }
  },
  {
   "cell_type": "code",
   "execution_count": 178,
   "outputs": [
    {
     "name": "stdout",
     "output_type": "stream",
     "text": [
      "Net(\n",
      "  (conv1): Conv2d(3, 6, kernel_size=(5, 5), stride=(1, 1))\n",
      "  (conv2): Conv2d(6, 16, kernel_size=(5, 5), stride=(1, 1))\n",
      "  (fc1): Linear(in_features=400, out_features=120, bias=True)\n",
      "  (fc2): Linear(in_features=120, out_features=84, bias=True)\n",
      "  (fc3): Linear(in_features=84, out_features=2, bias=True)\n",
      ")\n",
      "10\n"
     ]
    }
   ],
   "source": [
    "# 搭建CNN网络\n",
    "\n",
    "import torch\n",
    "from torch import nn\n",
    "import torch.nn.functional as F\n",
    "\n",
    "\n",
    "def num_flat_feature(x):\n",
    "    size = x.size()[1:]\n",
    "    num_feature = 1\n",
    "    for s in size:\n",
    "        num_feature *= s\n",
    "    return num_feature\n",
    "\n",
    "\n",
    "class Net(nn.Module):\n",
    "    def __init__(self):\n",
    "        super(Net,self).__init__()\n",
    "\n",
    "        ##\n",
    "        self.conv1 = nn.Conv2d(3, 6, 5)  # three channels, six conventional kernel, the kernel size is 5x5\n",
    "        # self.pool = nn.MaxPool2d(2,2)\n",
    "        self.conv2 = nn.Conv2d(6, 16, 5)\n",
    "\n",
    "\n",
    "        ##\n",
    "        self.fc1 = nn.Linear(16*5*5,120)\n",
    "        self.fc2 = nn.Linear(120, 84)\n",
    "        self.fc3 = nn.Linear(84, 2)\n",
    "\n",
    "    def forward(self,x):\n",
    "        x = F.max_pool2d(F.relu(self.conv1(x)),(2,2))\n",
    "\n",
    "        x = F.max_pool2d(F.relu(self.conv2(x)),2)\n",
    "        # x = x.view(-1, num_flat_feature(x))\n",
    "        x = x.view(-1, 16*5*5)      # 维度变换\n",
    "\n",
    "        x = F.relu(self.fc1(x))\n",
    "        x = F.relu(self.fc2(x))\n",
    "        x = self.fc3(x)\n",
    "        return x\n",
    "\n",
    "    def num_flat_features(self,x):\n",
    "        size = x.size()[1:]\n",
    "        num_feature = 1\n",
    "        for s in size:\n",
    "            num_feature *= s\n",
    "        return num_feature\n",
    "\n",
    "net= Net()\n",
    "print(net)\n",
    "params = list(net.parameters())\n",
    "print(len(params))"
   ],
   "metadata": {
    "collapsed": false,
    "pycharm": {
     "name": "#%%\n"
    }
   }
  },
  {
   "cell_type": "code",
   "execution_count": 178,
   "outputs": [],
   "source": [
    "\n",
    "\n",
    "\n"
   ],
   "metadata": {
    "collapsed": false,
    "pycharm": {
     "name": "#%%\n"
    }
   }
  },
  {
   "cell_type": "code",
   "execution_count": 179,
   "outputs": [],
   "source": [
    "# 损失函数和优化器\n",
    "import torch.optim as optim\n",
    "\n",
    "criterion = nn.CrossEntropyLoss()\n",
    "optimizer = optim.SGD(net.parameters(), lr=0.001, momentum=0.9)\n"
   ],
   "metadata": {
    "collapsed": false,
    "pycharm": {
     "name": "#%%\n"
    }
   }
  },
  {
   "cell_type": "code",
   "execution_count": 180,
   "outputs": [],
   "source": [
    "# training\n",
    "\n",
    "EOPCH = 100\n",
    "\n",
    "for epoch in range(EOPCH):\n",
    "    running_loss = 0.0\n",
    "\n",
    "    # get the inputs\n",
    "    for i, data in enumerate(train_loader,0):\n",
    "        inputs, labels = data\n",
    "\n",
    "        optimizer.zero_grad()\n",
    "\n",
    "        outputs = net(inputs)\n",
    "        loss = criterion(outputs, labels)\n",
    "        loss.backward()\n",
    "        optimizer.step()\n",
    "        running_loss += loss.item()"
   ],
   "metadata": {
    "collapsed": false,
    "pycharm": {
     "name": "#%%\n"
    }
   }
  },
  {
   "cell_type": "code",
   "execution_count": 181,
   "outputs": [],
   "source": [
    "# dataiter = iter(test_dataset)\n",
    "for i in range(99):\n",
    "    images, labels = dataset.__getitem__(i)\n",
    "    outputs=net(images[None,...])\n",
    "    _, predicted = torch.max(outputs,1)\n",
    "\n"
   ],
   "metadata": {
    "collapsed": false,
    "pycharm": {
     "name": "#%%\n"
    }
   }
  },
  {
   "cell_type": "code",
   "execution_count": 195,
   "outputs": [
    {
     "name": "stdout",
     "output_type": "stream",
     "text": [
      "tensor([[ 4.3173, -4.4975]])\n",
      "tensor([[-0.1316,  0.1188]])\n",
      "tensor([[ 3.4340, -3.7574]])\n",
      "tensor([[ 3.5335, -3.8474]])\n",
      "tensor([[ 3.6284, -3.8667]])\n",
      "tensor([[ 2.5970, -2.8934]])\n",
      "tensor([[ 2.5905, -2.8392]])\n",
      "tensor([[ 6.6271, -6.9266]])\n",
      "tensor([[ 3.1540, -3.4403]])\n",
      "tensor([[ 6.4931, -6.7262]])\n",
      "tensor([[-1.4223,  1.4380]])\n",
      "tensor([[-25.8537,  26.8493]])\n",
      "tensor([[-23.6023,  24.5798]])\n",
      "tensor([[-23.1653,  23.9712]])\n",
      "tensor([[-13.4401,  13.8671]])\n",
      "tensor([[ 3.2174, -3.5039]])\n",
      "tensor([[ 6.2598, -6.5650]])\n",
      "tensor([[ 5.9039, -6.1783]])\n",
      "tensor([[ 3.5687, -3.8564]])\n",
      "tensor([[ 5.2603, -5.4599]])\n",
      "tensor([[ 5.2790, -5.5206]])\n",
      "tensor([[-40.3273,  41.5344]])\n",
      "tensor([[ 4.4739, -4.7804]])\n",
      "tensor([[ 3.9148, -4.1786]])\n",
      "tensor([[-1.5181,  1.5263]])\n",
      "tensor([[ 4.1257, -4.4202]])\n",
      "tensor([[-15.3221,  15.9414]])\n",
      "tensor([[ 1.6673, -1.8188]])\n",
      "tensor([[ 3.4945, -3.6870]])\n",
      "tensor([[-15.3777,  16.1186]])\n",
      "0.9333333333333333\n",
      "{'TP': 10, 'FP': 2, 'FN': 0, 'TN': 18}\n"
     ]
    }
   ],
   "source": [
    "correct = 0\n",
    "total = 0\n",
    "\n",
    "confusion_matrix={\n",
    "    \"TP\":0,\n",
    "    \"FP\":0,\n",
    "    \"FN\":0,\n",
    "    \"TN\":0,\n",
    "}\n",
    "\n",
    "\n",
    "\n",
    "def confusion_calculate(output, label,confusion_matrix):\n",
    "    if  label == output:\n",
    "        if label == 1:\n",
    "            confusion_matrix[\"TP\"] += 1\n",
    "        else:\n",
    "            confusion_matrix[\"TN\"] += 1\n",
    "    else:\n",
    "        if label == 1:\n",
    "            confusion_matrix[\"FP\"] += 1\n",
    "        else:\n",
    "            confusion_matrix[\"FN\"] += 1\n",
    "\n",
    "\n",
    "roc_score = list()\n",
    "roc_label = list()\n",
    "\n",
    "with torch.no_grad():\n",
    "    TP,FP,FN,TN=0,0,0,0\n",
    "    for data in test_loader:\n",
    "        images, labels = data\n",
    "        outputs = net(images)\n",
    "        _,predicted = torch.max(outputs.data ,1)\n",
    "\n",
    "        roc_label.append(labels)\n",
    "        roc_score.append(predicted)\n",
    "        confusion_calculate(output=predicted, label=labels,confusion_matrix=confusion_matrix)\n",
    "        total = total + 1\n",
    "        if predicted == labels:\n",
    "            correct = correct + 1\n",
    "\n",
    "print(correct/total)\n",
    "print(confusion_matrix)\n",
    "\n"
   ],
   "metadata": {
    "collapsed": false,
    "pycharm": {
     "name": "#%%\n"
    }
   }
  },
  {
   "cell_type": "code",
   "execution_count": 183,
   "outputs": [],
   "source": [
    "##  this part try to interpret the CNN model\n",
    "\n",
    "# from captum.attr import IntegratedGradients\n",
    "# from captum.attr import Saliency\n",
    "# from captum.attr import InputXGradient\n",
    "# from captum.attr._core.guided_backprop_deconvnet import GuidedBackprop\n",
    "# from captum.attr._core.guided_grad_cam import GuidedGradCam\n",
    "# from captum.attr import DeepLift\n",
    "# from captum.attr import NoiseTunnel\n",
    "# from captum.attr import DeepLiftShap\n",
    "# from captum.attr import visualization as viz"
   ],
   "metadata": {
    "collapsed": false,
    "pycharm": {
     "name": "#%%\n"
    }
   }
  },
  {
   "cell_type": "code",
   "execution_count": 184,
   "outputs": [],
   "source": [
    "# ind = 0\n",
    "# device = torch.device(\"cpu\")\n",
    "# dataiter = iter(test_loader)\n",
    "# images, labels = dataiter.__next__()\n",
    "# images = images.to(device)\n",
    "#\n",
    "# # 尝试读取多个\n",
    "#\n",
    "# # original_image = np.transpose(images[ind].cpu().detach().numpy() , (1, 2, 0))\n",
    "# original_image = np.transpose((images[ind].cpu().detach().numpy() / 2) + 0.5, (1, 2, 0))\n",
    "# # original_image = np.repeat(original_image,3,axis=-1)\n",
    "#\n",
    "# # fig,axis = viz.visualize_image_attr(None, original_image,\n",
    "# #                           method=\"original_image\", title=\"Original Image\")\n",
    "# # fig.savefig('figures/8_orig.png')\n",
    "# # plt.close()\n",
    "#\n",
    "#"
   ],
   "metadata": {
    "collapsed": false,
    "pycharm": {
     "name": "#%%\n"
    }
   }
  },
  {
   "cell_type": "code",
   "execution_count": 185,
   "outputs": [],
   "source": [
    "# # A generic function that will be used for calling `attribute` on attribution algorithm defined in input.\n",
    "#\n",
    "#\n",
    "#\n",
    "# def attribute_image_features(algorithm, input, **kwargs):\n",
    "#     net.zero_grad()\n",
    "#     tensor_attributions = algorithm.attribute(input,\n",
    "#                                               target=predicted[ind],\n",
    "#                                               **kwargs\n",
    "#                                              )\n",
    "#\n",
    "#     return tensor_attributions"
   ],
   "metadata": {
    "collapsed": false,
    "pycharm": {
     "name": "#%%\n"
    }
   }
  },
  {
   "cell_type": "markdown",
   "source": [],
   "metadata": {
    "collapsed": false
   }
  },
  {
   "cell_type": "code",
   "execution_count": 186,
   "outputs": [
    {
     "name": "stderr",
     "output_type": "stream",
     "text": [
      "Clipping input data to the valid range for imshow with RGB data ([0..1] for floats or [0..255] for integers).\n"
     ]
    },
    {
     "data": {
      "text/plain": "<Figure size 432x432 with 1 Axes>",
      "image/png": "[encoded data removed]"
     },
     "metadata": {
      "needs_background": "light"
     },
     "output_type": "display_data"
    },
    {
     "data": {
      "text/plain": "<Figure size 432x432 with 1 Axes>",
      "image/png": "[encoded data removed]"
     },
     "metadata": {
      "needs_background": "light"
     },
     "output_type": "display_data"
    },
    {
     "data": {
      "text/plain": "<Figure size 432x432 with 1 Axes>",
      "image/png": "[encoded data removed]"
     },
     "metadata": {
      "needs_background": "light"
     },
     "output_type": "display_data"
    },
    {
     "data": {
      "text/plain": "<Figure size 432x432 with 1 Axes>",
      "image/png": "[encoded data removed]"
     },
     "metadata": {
      "needs_background": "light"
     },
     "output_type": "display_data"
    }
   ],
   "source": [
    "# # 获取 distribution 的 dataloader\n",
    "#\n",
    "#\n",
    "# def get_distribution_dataindex(root, label):\n",
    "#         label_file_path = os.path.join(root,\"label.xlsx\")\n",
    "#         label_data = pandas.read_excel(label_file_path)\n",
    "#         return label_data[label_data[\"output\"]==label].index\n",
    "#\n",
    "# def generate_distribution_data(index,length,reference_np,dataset):\n",
    "#     index = index.to_list()\n",
    "#     import random\n",
    "#     random.shuffle(index)\n",
    "#     for sample in range(length):\n",
    "#         reference_np[sample],label = dataset.__getitem__(index[sample])\n",
    "#     return torch.from_numpy(reference_np)\n",
    "#\n",
    "#\n",
    "#\n",
    "#\n",
    "# def plot_reference_data(background,name):\n",
    "#     background = background.numpy()\n",
    "#     background = np.mean(background,axis=0)\n",
    "#     background = np.transpose(background,(1, 2, 0))\n",
    "#     # background = np.repeat(background,3,axis=-1)/255\n",
    "#     fig,axis = viz.visualize_image_attr(None, background,\n",
    "#                           method=\"original_image\", title=name)\n",
    "#     fig.savefig(\"figures/\"+name)\n",
    "#     return background\n",
    "#\n",
    "#\n",
    "# sample_number = 5\n",
    "#\n",
    "# random_label_reference = torch.randn((sample_number,3,32,32))\n",
    "# random_background = plot_reference_data(random_label_reference,\"random reference\")\n",
    "#\n",
    "# zero_label_reference = torch.zeros((sample_number,3,32,32))\n",
    "# zero_background = plot_reference_data(zero_label_reference,\"zero reference\")\n",
    "#\n",
    "#\n",
    "# label_reference_np = np.empty((sample_number,3,32,32), dtype = float, order = 'C')\n",
    "# label_index =  get_distribution_dataindex(\"./\",1)\n",
    "# label1_reference_np = generate_distribution_data(label_index,sample_number,label_reference_np,dataset)\n",
    "#\n",
    "# label1_background = plot_reference_data(torch.from_numpy(label_reference_np),\"label=1 reference\")\n",
    "#\n",
    "#\n",
    "# label_reference_np = np.empty((sample_number,3,32,32), dtype = float, order = 'C')\n",
    "# label_index =  get_distribution_dataindex(\"./\",0)\n",
    "# label0_reference_np = generate_distribution_data(label_index,sample_number,label_reference_np,dataset)\n",
    "# label0_background = plot_reference_data(torch.from_numpy(label_reference_np),\"label=0 reference\")\n",
    "#"
   ],
   "metadata": {
    "collapsed": false,
    "pycharm": {
     "name": "#%%\n"
    }
   }
  },
  {
   "cell_type": "code",
   "execution_count": 187,
   "outputs": [],
   "source": [
    "# # Define a few baseline methods\n",
    "# # Computes gradients with respect to class `ind` and transposes them for visualization purposes.\n",
    "# order = 0\n",
    "#\n",
    "# input= images[ind].unsqueeze(0)\n",
    "# saliency = Saliency(net)\n",
    "# grads = saliency.attribute(input, target=labels[order].item(), abs=False)\n",
    "# grads = np.transpose(grads.squeeze(axis=0).cpu().detach().numpy(), (1, 2, 0))\n",
    "#\n",
    "# # Guided Propogate\n",
    "# gbp = GuidedBackprop(net)\n",
    "# attr_gbp = attribute_image_features(gbp, input)\n",
    "# attr_gbp = np.transpose(attr_gbp.squeeze(axis=0).cpu().detach().numpy(), (1, 2, 0))\n",
    "#\n",
    "# input = input.cpu()\n",
    "# net = net.to('cpu')\n",
    "#\n",
    "# # DeepLift\n",
    "# # the reference of deeplift?\n",
    "# dl = DeepLift(net)\n",
    "# attr_dl = attribute_image_features(dl, input, baselines=input * 0)\n",
    "# attr_dl = np.transpose(attr_dl.squeeze(0).cpu().detach().numpy(), (1, 2, 0))\n",
    "#\n",
    "# # DeepLiftShap\n",
    "#\n",
    "# # reference distribution:\n",
    "# ## zero  reference\n",
    "# ds = DeepLiftShap(net)\n",
    "# attr_ds = attribute_image_features(ds, input, baselines=zero_label_reference.view(-1,3,32,32).float())\n",
    "# attr_ds = np.transpose(attr_ds.squeeze(0).cpu().detach().numpy(), (1, 2, 0))\n",
    "#\n",
    "# ## random reference\n",
    "# attr_ds_r = attribute_image_features(ds, input, baselines=random_label_reference.view(-1,3,32,32).float())\n",
    "# attr_ds_r = np.transpose(attr_ds_r.squeeze(0).cpu().detach().numpy(), (1, 2, 0))\n",
    "#\n",
    "#\n",
    "# ## label=1 reference\n",
    "# attr_ds_1 = attribute_image_features(ds, input, baselines=label1_reference_np.view(-1,3,32,32).float())\n",
    "# attr_ds_1 = np.transpose(attr_ds_1.squeeze(0).cpu().detach().numpy(), (1, 2, 0))\n",
    "#\n",
    "# ## label=0 reference\n",
    "#\n",
    "# attr_ds_0 = attribute_image_features(ds, input, baselines=label0_reference_np.view(-1,3,32,32).float())\n",
    "# attr_ds_0 = np.transpose(attr_ds_0.squeeze(0).cpu().detach().numpy(), (1, 2, 0))\n",
    "#\n",
    "#"
   ],
   "metadata": {
    "collapsed": false,
    "pycharm": {
     "name": "#%%\n"
    }
   }
  },
  {
   "cell_type": "code",
   "execution_count": 188,
   "outputs": [],
   "source": [
    "# import hiddenlayer as h\n",
    "# vis_graph = h.build_graph(net,input)\n",
    "# vis_graph.save(path='./structure.png',format='png')"
   ],
   "metadata": {
    "collapsed": false,
    "pycharm": {
     "name": "#%%\n"
    }
   }
  },
  {
   "cell_type": "code",
   "execution_count": 189,
   "outputs": [
    {
     "data": {
      "text/plain": "<Figure size 432x432 with 1 Axes>",
      "image/png": "[encoded data removed]"
     },
     "metadata": {
      "needs_background": "light"
     },
     "output_type": "display_data"
    },
    {
     "data": {
      "text/plain": "<Figure size 432x432 with 2 Axes>",
      "image/png": "[encoded data removed]"
     },
     "metadata": {
      "needs_background": "light"
     },
     "output_type": "display_data"
    },
    {
     "data": {
      "text/plain": "<Figure size 432x432 with 2 Axes>",
      "image/png": "[encoded data removed]"
     },
     "metadata": {
      "needs_background": "light"
     },
     "output_type": "display_data"
    },
    {
     "data": {
      "text/plain": "<Figure size 432x432 with 2 Axes>",
      "image/png": "[encoded data removed]"
     },
     "metadata": {
      "needs_background": "light"
     },
     "output_type": "display_data"
    },
    {
     "data": {
      "text/plain": "<Figure size 432x432 with 2 Axes>",
      "image/png": "[encoded data removed]"
     },
     "metadata": {
      "needs_background": "light"
     },
     "output_type": "display_data"
    },
    {
     "data": {
      "text/plain": "<Figure size 432x432 with 2 Axes>",
      "image/png": "[encoded data removed]"
     },
     "metadata": {
      "needs_background": "light"
     },
     "output_type": "display_data"
    },
    {
     "data": {
      "text/plain": "<Figure size 432x432 with 2 Axes>",
      "image/png": "[encoded data removed]"
     },
     "metadata": {
      "needs_background": "light"
     },
     "output_type": "display_data"
    }
   ],
   "source": [
    "# # original images\n",
    "# fig,axis = viz.visualize_image_attr(None, original_image,\n",
    "#                           method=\"original_image\", title=\"Original Image\")\n",
    "# fig.savefig('figures/original_image.png')\n",
    "# plt.close()\n",
    "#\n",
    "#\n",
    "# # guidedbackprop\n",
    "# fig,axis = viz.visualize_image_attr(attr_gbp, original_image, method=\"blended_heat_map\",sign=\"all\",\n",
    "#                               show_colorbar=True, title=\"Overlayed GuidedBackprop\",alpha_overlay=0.9)\n",
    "# fig.savefig('figures/guidedbackprop.png')\n",
    "# plt.close()\n",
    "#\n",
    "#\n",
    "# # deeplift\n",
    "# fig,axis = viz.visualize_image_attr(attr_dl/attr_dl.max(), original_image, method=\"blended_heat_map\",sign=\"all\",show_colorbar=True,\n",
    "#                               title=\"Overlayed DeepLift\",alpha_overlay=0.9)\n",
    "# fig.savefig('figures/deeplift.png')\n",
    "# plt.close()\n",
    "#\n",
    "# # deepshap with zero reference\n",
    "# fig,axis = viz.visualize_image_attr(attr_ds, original_image, method=\"blended_heat_map\",sign=\"all\",show_colorbar=True,\n",
    "#                           title=\"Overlayed DeepSHAP with zero reference\",alpha_overlay=0.9)\n",
    "# fig.savefig('figures/deepshap with zero ref.png')\n",
    "# plt.close()\n",
    "#\n",
    "# # deepshap with random reference\n",
    "# fig,axis = viz.visualize_image_attr(attr_ds_r, original_image, method=\"blended_heat_map\",sign=\"all\",show_colorbar=True,\n",
    "#                           title=\"Overlayed DeepSHAP with random reference\",alpha_overlay=0.9)\n",
    "# fig.savefig('figures/deepshap with random ref.png')\n",
    "# plt.close()\n",
    "#\n",
    "# # deepshap with label=1 reference\n",
    "# fig,axis = viz.visualize_image_attr(attr_ds_1, original_image, method=\"blended_heat_map\",sign=\"all\",show_colorbar=True,\n",
    "#                           title=\"Overlayed DeepSHAP with label=1 reference\",alpha_overlay=0.9)\n",
    "# fig.savefig('figures/deepshap with label1 ref.png')\n",
    "# plt.close()\n",
    "#\n",
    "# # deepshap with label=0 reference\n",
    "# fig,axis = viz.visualize_image_attr(attr_ds_0, original_image, method=\"blended_heat_map\",sign=\"all\",show_colorbar=True,\n",
    "#                           title=\"Overlayed DeepSHAP with label=0 reference\",alpha_overlay=0.9)\n",
    "# fig.savefig('figures/deepshap with label0 ref')\n",
    "# plt.close()\n",
    "#\n"
   ],
   "metadata": {
    "collapsed": false,
    "pycharm": {
     "name": "#%%\n"
    }
   }
  }
 ],
 "metadata": {
  "kernelspec": {
   "display_name": "Python 3",
   "language": "python",
   "name": "python3"
  },
  "language_info": {
   "codemirror_mode": {
    "name": "ipython",
    "version": 2
   },
   "file_extension": ".py",
   "mimetype": "text/x-python",
   "name": "python",
   "nbconvert_exporter": "python",
   "pygments_lexer": "ipython2",
   "version": "2.7.6"
  }
 },
 "nbformat": 4,
 "nbformat_minor": 0
}